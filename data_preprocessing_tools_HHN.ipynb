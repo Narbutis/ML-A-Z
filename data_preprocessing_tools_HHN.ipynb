{
  "nbformat": 4,
  "nbformat_minor": 0,
  "metadata": {
    "colab": {
      "name": "data_preprocessing_tools-HHN.ipynb",
      "provenance": [],
      "collapsed_sections": [],
      "toc_visible": true,
      "include_colab_link": true
    },
    "kernelspec": {
      "display_name": "Python 3",
      "language": "python",
      "name": "python3"
    },
    "language_info": {
      "codemirror_mode": {
        "name": "ipython",
        "version": 3
      },
      "file_extension": ".py",
      "mimetype": "text/x-python",
      "name": "python",
      "nbconvert_exporter": "python",
      "pygments_lexer": "ipython3",
      "version": "3.7.3"
    }
  },
  "cells": [
    {
      "cell_type": "markdown",
      "metadata": {
        "id": "view-in-github",
        "colab_type": "text"
      },
      "source": [
        "<a href=\"https://colab.research.google.com/github/Narbutis/ML-A-Z/blob/master/data_preprocessing_tools_HHN.ipynb\" target=\"_parent\"><img src=\"https://colab.research.google.com/assets/colab-badge.svg\" alt=\"Open In Colab\"/></a>"
      ]
    },
    {
      "cell_type": "markdown",
      "metadata": {
        "colab_type": "text",
        "id": "37puETfgRzzg"
      },
      "source": [
        "# Data Preprocessing Tools"
      ]
    },
    {
      "cell_type": "markdown",
      "metadata": {
        "colab_type": "text",
        "id": "EoRP98MpR-qj"
      },
      "source": [
        "# Section 2 - Data Preprocessing\n",
        "\n",
        "Features - Columns that are used to predict the dependent value\n",
        "\n",
        "Dependent variables - Field that you like to predict (usually the last column of a dataset)\n",
        "\n",
        "## Importing the libraries"
      ]
    },
    {
      "cell_type": "code",
      "metadata": {
        "id": "ycjULJ-lQiSj",
        "colab_type": "code",
        "colab": {}
      },
      "source": [
        "import numpy as np\n",
        "import matplotlib.pyplot as plt\n",
        "import pandas as pd"
      ],
      "execution_count": null,
      "outputs": []
    },
    {
      "cell_type": "markdown",
      "metadata": {
        "colab_type": "text",
        "id": "RopL7tUZSQkT"
      },
      "source": [
        "## Importing the dataset"
      ]
    },
    {
      "cell_type": "code",
      "metadata": {
        "scrolled": true,
        "id": "-H5V2Ay1QiSq",
        "colab_type": "code",
        "colab": {}
      },
      "source": [
        "dataset = pd.read_csv('Data.csv')\n",
        "X = dataset.iloc[:,:-1].values\n",
        "y = dataset.iloc[:,-1].values"
      ],
      "execution_count": null,
      "outputs": []
    },
    {
      "cell_type": "code",
      "metadata": {
        "id": "dzlRgd8xQiSv",
        "colab_type": "code",
        "colab": {
          "base_uri": "https://localhost:8080/",
          "height": 374
        },
        "outputId": "1a64ce01-064c-4d40-9d73-198238d39f16"
      },
      "source": [
        "print (dataset.head) # print just the first 10 rows of a dataset\n",
        "print(X)"
      ],
      "execution_count": null,
      "outputs": [
        {
          "output_type": "stream",
          "text": [
            "<bound method NDFrame.head of    Country   Age   Salary Purchased\n",
            "0   France  44.0  72000.0        No\n",
            "1    Spain  27.0  48000.0       Yes\n",
            "2  Germany  30.0  54000.0        No\n",
            "3    Spain  38.0  61000.0        No\n",
            "4  Germany  40.0      NaN       Yes\n",
            "5   France  35.0  58000.0       Yes\n",
            "6    Spain   NaN  52000.0        No\n",
            "7   France  48.0  79000.0       Yes\n",
            "8  Germany  50.0  83000.0        No\n",
            "9   France  37.0  67000.0       Yes>\n",
            "[['France' 44.0 72000.0]\n",
            " ['Spain' 27.0 48000.0]\n",
            " ['Germany' 30.0 54000.0]\n",
            " ['Spain' 38.0 61000.0]\n",
            " ['Germany' 40.0 nan]\n",
            " ['France' 35.0 58000.0]\n",
            " ['Spain' nan 52000.0]\n",
            " ['France' 48.0 79000.0]\n",
            " ['Germany' 50.0 83000.0]\n",
            " ['France' 37.0 67000.0]]\n"
          ],
          "name": "stdout"
        }
      ]
    },
    {
      "cell_type": "code",
      "metadata": {
        "id": "sIB6QAwTQiS1",
        "colab_type": "code",
        "colab": {
          "base_uri": "https://localhost:8080/",
          "height": 34
        },
        "outputId": "a8eb8c28-4496-469e-f5eb-be1cf04ba33e"
      },
      "source": [
        "print(y)"
      ],
      "execution_count": null,
      "outputs": [
        {
          "output_type": "stream",
          "text": [
            "['No' 'Yes' 'No' 'No' 'Yes' 'Yes' 'No' 'Yes' 'No' 'Yes']\n"
          ],
          "name": "stdout"
        }
      ]
    },
    {
      "cell_type": "code",
      "metadata": {
        "id": "Q1uIWEeNQiS6",
        "colab_type": "code",
        "colab": {
          "base_uri": "https://localhost:8080/",
          "height": 204
        },
        "outputId": "359545dc-c39f-4a9a-9f12-19e8d86bdeb4"
      },
      "source": [
        "dataset.iloc[:,3]"
      ],
      "execution_count": null,
      "outputs": [
        {
          "output_type": "execute_result",
          "data": {
            "text/plain": [
              "0     No\n",
              "1    Yes\n",
              "2     No\n",
              "3     No\n",
              "4    Yes\n",
              "5    Yes\n",
              "6     No\n",
              "7    Yes\n",
              "8     No\n",
              "9    Yes\n",
              "Name: Purchased, dtype: object"
            ]
          },
          "metadata": {
            "tags": []
          },
          "execution_count": 52
        }
      ]
    },
    {
      "cell_type": "code",
      "metadata": {
        "id": "kGg_ozY1QiS_",
        "colab_type": "code",
        "colab": {
          "base_uri": "https://localhost:8080/",
          "height": 629
        },
        "outputId": "d3707599-2253-443b-b7c7-c6d2283e606b"
      },
      "source": [
        "## Examples of indexing\n",
        "#(https://www.geeksforgeeks.org/different-ways-to-create-pandas-dataframe/#:~:text=%23%20print%20dataframe.&text=To%20create%20DataFrame%20from%20dict,n%20is%20the%20array%20length.)\n",
        "# Python code demonstrate creating  \n",
        "# DataFrame from dict narray / lists  \n",
        "# By default addresses. \n",
        "  \n",
        "# intialise data of lists. \n",
        "data = {'Column_0':['00', '10', '20'], 'Column_1':['01', '11', '21'], 'Column_2':['02', '12', '22']} \n",
        "  \n",
        "# Create DataFrame \n",
        "# Create DataFrame \n",
        "example = pd.DataFrame(data)\n",
        "print(example)\n",
        "\n",
        "# Using loc\n",
        "print('\\nloc[0] = ')\n",
        "print(example.loc[0])\n",
        "#example.loc['Column_1'] - won't work because doesn't specify a range of rows (but works if you ommit the coluns when selectiong rows)\n",
        "print(example.loc[:,'Column_1'])\n",
        "\n",
        "# Using iloc (line, column)\n",
        "print('\\niloc')\n",
        "print (example.iloc[1,2])\n",
        "print (example.iloc[:,2])\n",
        "print (example.iloc[0:2,2])\n",
        "print (example.iloc[0:3,2]) # select by range 0 to limit -1, in this case row 2\n",
        "print (example.iloc[:,-1]) # same as above, because it selects the last column (reverse indexing)\n",
        "print (example.iloc[:,:-1]) # all columns but last (excludes last column)"
      ],
      "execution_count": null,
      "outputs": [
        {
          "output_type": "stream",
          "text": [
            "  Column_0 Column_1 Column_2\n",
            "0       00       01       02\n",
            "1       10       11       12\n",
            "2       20       21       22\n",
            "\n",
            "loc[0] = \n",
            "Column_0    00\n",
            "Column_1    01\n",
            "Column_2    02\n",
            "Name: 0, dtype: object\n",
            "0    01\n",
            "1    11\n",
            "2    21\n",
            "Name: Column_1, dtype: object\n",
            "\n",
            "iloc\n",
            "12\n",
            "0    02\n",
            "1    12\n",
            "2    22\n",
            "Name: Column_2, dtype: object\n",
            "0    02\n",
            "1    12\n",
            "Name: Column_2, dtype: object\n",
            "0    02\n",
            "1    12\n",
            "2    22\n",
            "Name: Column_2, dtype: object\n",
            "0    02\n",
            "1    12\n",
            "2    22\n",
            "Name: Column_2, dtype: object\n",
            "  Column_0 Column_1\n",
            "0       00       01\n",
            "1       10       11\n",
            "2       20       21\n"
          ],
          "name": "stdout"
        }
      ]
    },
    {
      "cell_type": "markdown",
      "metadata": {
        "colab_type": "text",
        "id": "nhfKXNxlSabC"
      },
      "source": [
        "## Taking care of missing data"
      ]
    },
    {
      "cell_type": "code",
      "metadata": {
        "id": "f3WR7lp6QiTG",
        "colab_type": "code",
        "colab": {
          "base_uri": "https://localhost:8080/",
          "height": 357
        },
        "outputId": "35cccb2a-9abc-426f-e348-411edd704953"
      },
      "source": [
        "from sklearn.impute import SimpleImputer #import a class\n",
        "imputer = SimpleImputer(missing_values=np.nan, strategy='mean') #creation of an object in a class\n",
        "print(X[:,1:3])\n",
        "imputer.fit(X[:,1:3]) #uses the method (\"function\") that applies to our dataset, identifying the null data and calculating the mean\n",
        "\n",
        "# This method doesn't replace an y value to the column mean yet, to do this we need to use transform:\n",
        "X[:,1:3] = imputer.transform(X[:, 1:3])\n",
        "print(X) # Note that we have modified the WHOLE array indirectly, by a subset of it"
      ],
      "execution_count": null,
      "outputs": [
        {
          "output_type": "stream",
          "text": [
            "[[44.0 72000.0]\n",
            " [27.0 48000.0]\n",
            " [30.0 54000.0]\n",
            " [38.0 61000.0]\n",
            " [40.0 nan]\n",
            " [35.0 58000.0]\n",
            " [nan 52000.0]\n",
            " [48.0 79000.0]\n",
            " [50.0 83000.0]\n",
            " [37.0 67000.0]]\n",
            "[['France' 44.0 72000.0]\n",
            " ['Spain' 27.0 48000.0]\n",
            " ['Germany' 30.0 54000.0]\n",
            " ['Spain' 38.0 61000.0]\n",
            " ['Germany' 40.0 63777.77777777778]\n",
            " ['France' 35.0 58000.0]\n",
            " ['Spain' 38.77777777777778 52000.0]\n",
            " ['France' 48.0 79000.0]\n",
            " ['Germany' 50.0 83000.0]\n",
            " ['France' 37.0 67000.0]]\n"
          ],
          "name": "stdout"
        }
      ]
    },
    {
      "cell_type": "markdown",
      "metadata": {
        "colab_type": "text",
        "id": "CriG6VzVSjcK"
      },
      "source": [
        "## Encoding categorical data"
      ]
    },
    {
      "cell_type": "markdown",
      "metadata": {
        "colab_type": "text",
        "id": "AhSpdQWeSsFh"
      },
      "source": [
        "### Encoding the Independent Variable"
      ]
    },
    {
      "cell_type": "code",
      "metadata": {
        "id": "38-Haam6QiTM",
        "colab_type": "code",
        "colab": {
          "base_uri": "https://localhost:8080/",
          "height": 187
        },
        "outputId": "1a4168b1-44f6-4ea9-ba3e-041be96d8477"
      },
      "source": [
        "from sklearn.compose import ColumnTransformer\n",
        "from sklearn.preprocessing import OneHotEncoder\n",
        "\n",
        "# Transform columns with a pattern, in this one: Onehotencoder, transforming a categorical column \"matrix[0]\", into \n",
        "#  3 columns coded with binary values. \n",
        "# By transforming the data from string into 3 binary columns instead of a single numeric category (1, 2, 3..), we avoid\n",
        "#  the misinterpretation of the field by the algorithm as quantitative field, e.g. giving greater value to category 3.\n",
        "# The passtrough indicates that other columns than the Country, will be kept as original\n",
        "ct = ColumnTransformer(transformers=[('encoder', OneHotEncoder(), [0])], remainder='passthrough')\n",
        "X = np.array(ct.fit_transform(X)) # forces the output as a numpy array, to split the data after\n",
        "X"
      ],
      "execution_count": null,
      "outputs": [
        {
          "output_type": "execute_result",
          "data": {
            "text/plain": [
              "array([[1.0, 0.0, 0.0, 44.0, 72000.0],\n",
              "       [0.0, 0.0, 1.0, 27.0, 48000.0],\n",
              "       [0.0, 1.0, 0.0, 30.0, 54000.0],\n",
              "       [0.0, 0.0, 1.0, 38.0, 61000.0],\n",
              "       [0.0, 1.0, 0.0, 40.0, 63777.77777777778],\n",
              "       [1.0, 0.0, 0.0, 35.0, 58000.0],\n",
              "       [0.0, 0.0, 1.0, 38.77777777777778, 52000.0],\n",
              "       [1.0, 0.0, 0.0, 48.0, 79000.0],\n",
              "       [0.0, 1.0, 0.0, 50.0, 83000.0],\n",
              "       [1.0, 0.0, 0.0, 37.0, 67000.0]], dtype=object)"
            ]
          },
          "metadata": {
            "tags": []
          },
          "execution_count": 55
        }
      ]
    },
    {
      "cell_type": "markdown",
      "metadata": {
        "colab_type": "text",
        "id": "DXh8oVSITIc6"
      },
      "source": [
        "### Encoding the Dependent Variable"
      ]
    },
    {
      "cell_type": "code",
      "metadata": {
        "id": "svDpd81vQiTS",
        "colab_type": "code",
        "colab": {}
      },
      "source": [
        "# Encodes a binary category (easier), => doesn't need to be a numpy array\n",
        "from sklearn.preprocessing import LabelEncoder\n",
        "le = LabelEncoder()\n",
        "y=le.fit_transform(y)"
      ],
      "execution_count": null,
      "outputs": []
    },
    {
      "cell_type": "markdown",
      "metadata": {
        "colab_type": "text",
        "id": "qb_vcgm3qZKW"
      },
      "source": [
        "## Splitting the dataset into the Training set and Test set"
      ]
    },
    {
      "cell_type": "code",
      "metadata": {
        "id": "NjpqkY9GNtae",
        "colab_type": "code",
        "colab": {}
      },
      "source": [
        "# Splitting MUST COME BEFORE the scaling, to ensure that the test set is preserved as new data and \n",
        "#  that the model doesn't depend on it.\n",
        "# e.g. suppose that the test set has some outliers, it can decalibrate the algorithm, cause overfitting etc.\n",
        "\n",
        "from sklearn.model_selection import train_test_split\n",
        "x_train, x_test, y_train, y_test = train_test_split(X, y, test_size=0.2, random_state=1)\n",
        "\n",
        "# The split will create 4 sets, 2 for the training and 2 for test, where each one will have a set for\n",
        "#  X, the independent variable and Y, the dependant one. Random_state defines the seed of the data sample taken."
      ],
      "execution_count": null,
      "outputs": []
    },
    {
      "cell_type": "code",
      "metadata": {
        "id": "XuMKPGdoR4F7",
        "colab_type": "code",
        "colab": {
          "base_uri": "https://localhost:8080/",
          "height": 153
        },
        "outputId": "4d328e13-75a5-4d80-d9f8-756c9b426121"
      },
      "source": [
        "print(x_train)"
      ],
      "execution_count": null,
      "outputs": [
        {
          "output_type": "stream",
          "text": [
            "[[0.0 0.0 1.0 38.77777777777778 52000.0]\n",
            " [0.0 1.0 0.0 40.0 63777.77777777778]\n",
            " [1.0 0.0 0.0 44.0 72000.0]\n",
            " [0.0 0.0 1.0 38.0 61000.0]\n",
            " [0.0 0.0 1.0 27.0 48000.0]\n",
            " [1.0 0.0 0.0 48.0 79000.0]\n",
            " [0.0 1.0 0.0 50.0 83000.0]\n",
            " [1.0 0.0 0.0 35.0 58000.0]]\n"
          ],
          "name": "stdout"
        }
      ]
    },
    {
      "cell_type": "code",
      "metadata": {
        "id": "GpPlxnU8R7yf",
        "colab_type": "code",
        "colab": {
          "base_uri": "https://localhost:8080/",
          "height": 51
        },
        "outputId": "bfd15f3c-e62c-47bd-b639-6ad8cc27e74f"
      },
      "source": [
        "print(x_test)"
      ],
      "execution_count": null,
      "outputs": [
        {
          "output_type": "stream",
          "text": [
            "[[0.0 1.0 0.0 30.0 54000.0]\n",
            " [1.0 0.0 0.0 37.0 67000.0]]\n"
          ],
          "name": "stdout"
        }
      ]
    },
    {
      "cell_type": "code",
      "metadata": {
        "id": "YslJTxJoSDIK",
        "colab_type": "code",
        "colab": {
          "base_uri": "https://localhost:8080/",
          "height": 34
        },
        "outputId": "c3776d95-b422-4c43-d29e-19706586e02b"
      },
      "source": [
        "print(y_train)"
      ],
      "execution_count": null,
      "outputs": [
        {
          "output_type": "stream",
          "text": [
            "[0 1 0 0 1 1 0 1]\n"
          ],
          "name": "stdout"
        }
      ]
    },
    {
      "cell_type": "code",
      "metadata": {
        "id": "GgNyao2PSFIZ",
        "colab_type": "code",
        "colab": {
          "base_uri": "https://localhost:8080/",
          "height": 34
        },
        "outputId": "c72bfc02-e917-4658-c583-be2032d70c0a"
      },
      "source": [
        "print(y_test)"
      ],
      "execution_count": null,
      "outputs": [
        {
          "output_type": "stream",
          "text": [
            "[0 1]\n"
          ],
          "name": "stdout"
        }
      ]
    },
    {
      "cell_type": "markdown",
      "metadata": {
        "colab_type": "text",
        "id": "TpGqbS4TqkIR"
      },
      "source": [
        "## Feature Scaling"
      ]
    },
    {
      "cell_type": "code",
      "metadata": {
        "id": "ZT8kxpC5ZaQg",
        "colab_type": "code",
        "colab": {}
      },
      "source": [
        "# The scaling doesn't need to be made for all machine learning models, \n",
        "#  but for some of them is a must\n",
        "#  e.g. help to control the magnitude of scalar coeficients of linear \n",
        "regression\n",
        "# normalization - 0 to 1, good to use in normal distributions\n",
        "# standardisation - ~-3 to ~+3, broader use than normal"
      ],
      "execution_count": null,
      "outputs": []
    },
    {
      "cell_type": "markdown",
      "metadata": {
        "id": "rCr1b-iPbW4b",
        "colab_type": "text"
      },
      "source": [
        "![image.png](data:image/png;base64,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)"
      ]
    },
    {
      "cell_type": "code",
      "metadata": {
        "id": "Vz6XcTtHb-6x",
        "colab_type": "code",
        "colab": {}
      },
      "source": [
        "from sklearn.preprocessing import StandardScaler\n",
        "sc = StandardScaler()\n",
        "# Only apply Standardization to numeric values, not to dummy variables,\n",
        "#  because 1) they already are between the range -3 to +3 and 2) the procedure\n",
        "#  will change the values between lines to other values, losing the track of\n",
        "#  what the dummy variable meant when was categorical.\n",
        "\n",
        "# Fit calculates the mean and the std_dev, transform will apply the calculus\n",
        "x_train[:,3:] = sc.fit_transform(x_train[:,3:])\n",
        "# Only transform to the test set, because it need to work with the parameters\n",
        "#  of the trained model, mean and stdev in this case\n",
        "x_test[:,3:] = sc.transform(x_test[:,3:])"
      ],
      "execution_count": null,
      "outputs": []
    },
    {
      "cell_type": "code",
      "metadata": {
        "id": "EB2aQC9Yf11d",
        "colab_type": "code",
        "colab": {
          "base_uri": "https://localhost:8080/",
          "height": 153
        },
        "outputId": "337184cc-1b82-491f-8784-2a0524606be4"
      },
      "source": [
        "print (x_train)"
      ],
      "execution_count": null,
      "outputs": [
        {
          "output_type": "stream",
          "text": [
            "[[0.0 0.0 1.0 -0.19159184384578545 -1.0781259408412425]\n",
            " [0.0 1.0 0.0 -0.014117293757057777 -0.07013167641635372]\n",
            " [1.0 0.0 0.0 0.566708506533324 0.633562432710455]\n",
            " [0.0 0.0 1.0 -0.30453019390224867 -0.30786617274297867]\n",
            " [0.0 0.0 1.0 -1.9018011447007988 -1.420463615551582]\n",
            " [1.0 0.0 0.0 1.1475343068237058 1.232653363453549]\n",
            " [0.0 1.0 0.0 1.4379472069688968 1.5749910381638885]\n",
            " [1.0 0.0 0.0 -0.7401495441200351 -0.5646194287757332]]\n"
          ],
          "name": "stdout"
        }
      ]
    },
    {
      "cell_type": "code",
      "metadata": {
        "id": "QhqyBP96f1oA",
        "colab_type": "code",
        "colab": {
          "base_uri": "https://localhost:8080/",
          "height": 51
        },
        "outputId": "ba1f26f5-137e-4b2c-c8e0-36a7e21925b7"
      },
      "source": [
        "print (x_test)"
      ],
      "execution_count": null,
      "outputs": [
        {
          "output_type": "stream",
          "text": [
            "[[0.0 1.0 0.0 -1.4661817944830124 -0.9069571034860727]\n",
            " [1.0 0.0 0.0 -0.44973664397484414 0.2056403393225306]]\n"
          ],
          "name": "stdout"
        }
      ]
    }
  ]
}